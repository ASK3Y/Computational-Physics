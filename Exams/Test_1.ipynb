{
  "nbformat": 4,
  "nbformat_minor": 0,
  "metadata": {
    "colab": {
      "provenance": [],
      "include_colab_link": true
    },
    "kernelspec": {
      "name": "python3",
      "display_name": "Python 3"
    },
    "language_info": {
      "name": "python"
    }
  },
  "cells": [
    {
      "cell_type": "markdown",
      "metadata": {
        "id": "view-in-github",
        "colab_type": "text"
      },
      "source": [
        "<a href=\"https://colab.research.google.com/github/ASK3Y/Computational-Physics/blob/main/Exams/Test_1.ipynb\" target=\"_parent\"><img src=\"https://colab.research.google.com/assets/colab-badge.svg\" alt=\"Open In Colab\"/></a>"
      ]
    },
    {
      "cell_type": "markdown",
      "source": [
        "Computational Methods, Test 1"
      ],
      "metadata": {
        "id": "MPScCX481lZs"
      }
    },
    {
      "cell_type": "markdown",
      "source": [
        "1. (5 points) Use the following NumPy Arrays to evaluate the Python commands below:"
      ],
      "metadata": {
        "id": "8xDVwTe41ri-"
      }
    },
    {
      "cell_type": "markdown",
      "source": [
        "\n",
        "\n",
        "```\n",
        "x[3]\n",
        "\n",
        "x[:3]\n",
        "\n",
        "y[-1]\n",
        "\n",
        "y[y>4]\n",
        "\n",
        "x[y==8]\n",
        "```\n",
        "\n"
      ],
      "metadata": {
        "id": "k6vWnH2t1-W5"
      }
    },
    {
      "cell_type": "code",
      "source": [
        "import numpy as np\n",
        "x = np.array([3, 6, 7, 2, 0, 2, 5, 5])\n",
        "y = np.array([0, 5, 2, 8, 4, 5, 1, 8])\n",
        "\n",
        "# enter your code here"
      ],
      "metadata": {
        "id": "TLpbZJd81yln"
      },
      "execution_count": 10,
      "outputs": []
    },
    {
      "cell_type": "markdown",
      "source": [
        "x[3], is the element at index 3 which is 2.\n",
        "\n",
        "x[:3], is slicing and will output the elements from index 0 to 2 which will show array([3, 6, 7])\n",
        "\n",
        "y[-1], will output the last element in the y array which is 8\n",
        "\n",
        "y[y>4], will out put the elements in the y array that are greater than 4, this will show array([5, 8, 5, 8])\n",
        "\n",
        "x[y==8], this will output the elements in the idex in the x array that correspond to the elements in the y array that are exactly equal to 8, this will show array([2, 5])"
      ],
      "metadata": {
        "id": "n2TUxcbRNWMg"
      }
    },
    {
      "cell_type": "markdown",
      "source": [
        "2. (5 points) Write down the output of the following commands\n"
      ],
      "metadata": {
        "id": "QK1j6_Dh2TOB"
      }
    },
    {
      "cell_type": "code",
      "source": [
        "np.linspace(0,5,5)\n",
        "np.arange(0,10,2)\n",
        "np.zeros((2,4))"
      ],
      "metadata": {
        "id": "fTV2L2an2ZHq"
      },
      "execution_count": null,
      "outputs": []
    },
    {
      "cell_type": "markdown",
      "source": [
        "np.linspace(0,5,5), will output [0, 1.25, 2.5, 3.75, 5]\n",
        "\n",
        "np.arange(0,10,2), will output [0, 2, 4, 6, 8]\n",
        "\n",
        "np.zeros((2,4)), will output two rows of four zeros."
      ],
      "metadata": {
        "id": "JsqKLrJSPxeg"
      }
    },
    {
      "cell_type": "markdown",
      "source": [
        "3. (5 points) Calculate the sum of the squares of integers from 1 to 100. Use any method.\n"
      ],
      "metadata": {
        "id": "NFZQkXpb2gvf"
      }
    },
    {
      "cell_type": "code",
      "source": [
        "# enter your code here\n",
        "total_sum = 0\n",
        "for x in range(1, 101):\n",
        "    total_sum += x**2\n",
        "print(total_sum)"
      ],
      "metadata": {
        "id": "rfx6sDU52lqt",
        "outputId": "81768b4c-f628-45f0-be77-5b5dc77b53cf",
        "colab": {
          "base_uri": "https://localhost:8080/"
        }
      },
      "execution_count": 11,
      "outputs": [
        {
          "output_type": "stream",
          "name": "stdout",
          "text": [
            "338350\n"
          ]
        }
      ]
    },
    {
      "cell_type": "markdown",
      "source": [
        "4. (5 points) Given a Python list of integers A, create a new list B that only contains those elements of A that are positive. Use a for loop (not logical indexing).\n"
      ],
      "metadata": {
        "id": "5OjLlDzj2oGS"
      }
    },
    {
      "cell_type": "code",
      "source": [
        "# enter your code here\n",
        "A = [1, -2, 3, -4, 5, -6]\n",
        "B = []\n",
        "for x in A:\n",
        "    if x > 0:\n",
        "        B.append(x)\n",
        "print(B)"
      ],
      "metadata": {
        "id": "f_gZwt0y2tth",
        "outputId": "2e6a9a96-c260-41de-fbac-040465b26792",
        "colab": {
          "base_uri": "https://localhost:8080/"
        }
      },
      "execution_count": 12,
      "outputs": [
        {
          "output_type": "stream",
          "name": "stdout",
          "text": [
            "[1, 3, 5]\n"
          ]
        }
      ]
    },
    {
      "cell_type": "markdown",
      "source": [
        "5. (5 points) (a) Write down the output of the following Python program in the box below. Only show what will be printed."
      ],
      "metadata": {
        "id": "N3kpzvX42uif"
      }
    },
    {
      "cell_type": "code",
      "source": [
        "A = [1, -2, 3, -4, 5, -6]\n",
        "s1 = 0\n",
        "s2 = 0\n",
        "for n in A:\n",
        "     if n > 0:\n",
        "         s1 += n\n",
        "     else:\n",
        "         s2 += n\n",
        "     print(f'{n:2} {s1:2} {s2:2}')"
      ],
      "metadata": {
        "id": "EpP795dk2zxZ"
      },
      "execution_count": 15,
      "outputs": []
    },
    {
      "cell_type": "markdown",
      "source": [
        "1  1  0\n",
        "\n",
        "-2  1  -2\n",
        "\n",
        "3  4  -2\n",
        "\n",
        "-4  4  -6\n",
        "\n",
        "5  9  -6\n",
        "\n",
        "-6  9  -12\n",
        "\n"
      ],
      "metadata": {
        "id": "MUNOj00xR-pi"
      }
    },
    {
      "cell_type": "markdown",
      "source": [
        "6. (5 points) (a) Write down the output of the following Python program in the box below. Only show what will be printed.\n"
      ],
      "metadata": {
        "id": "qKi-ESMD3AMs"
      }
    },
    {
      "cell_type": "code",
      "source": [
        "s = 0\n",
        "for n in range(4):\n",
        "    for x in range(n+1):\n",
        "       s += 1\n",
        "    print(f'{n}  {s}')"
      ],
      "metadata": {
        "id": "LR9TnO5E3DPn"
      },
      "execution_count": null,
      "outputs": []
    },
    {
      "cell_type": "markdown",
      "source": [
        "0  1\n",
        "\n",
        "1  3\n",
        "\n",
        "2  6\n",
        "\n",
        "3  10"
      ],
      "metadata": {
        "id": "JnKvz1oISr2J"
      }
    },
    {
      "cell_type": "markdown",
      "source": [
        "7. (5 points) Write some Python code using the NumPy library to calculate the speed of an object in free fall:\n",
        "Prompt the user to enter the height $h$ from which the object is dropped.\n",
        "Calculate the velocity using $v=\\sqrt{2gh}$ , where $g=9.8$ m/s$^2$.\n",
        "Print a message displaying and labeling the velocity rounded to 2 decimal places\n",
        "Print a warning message if the speed exceeds half the speed of light, where $c=3\\times 10^8$ m/s. The message should read:  “The object is approaching the speed of light”."
      ],
      "metadata": {
        "id": "VL6rkGj33JEy"
      }
    },
    {
      "cell_type": "code",
      "source": [
        "# enter your code here\n",
        "import numpy as np\n",
        "\n",
        "g = 9.8\n",
        "c = 3e8\n",
        "\n",
        "try:\n",
        "    h = float(input(\"Enter the height (m) from which the object is dropped: \"))\n",
        "    if h < 0:\n",
        "        print(\"The height cannot be negative.\")\n",
        "    else:\n",
        "        v = np.sqrt(2 * g * h)\n",
        "        print(f\"The velocity is: {v:.2f} m/s.\")\n",
        "\n",
        "        if v > c/2:\n",
        "            print(\"The object is approaching the speed of light.\")\n",
        "except ValueError:\n",
        "    print(\"Invalid input. Please enter a value for the height.\")"
      ],
      "metadata": {
        "id": "8Rf6kDcL3bLu",
        "outputId": "97c5a1d0-2ed1-45b3-ab25-1185fa431dff",
        "colab": {
          "base_uri": "https://localhost:8080/"
        }
      },
      "execution_count": 17,
      "outputs": [
        {
          "output_type": "stream",
          "name": "stdout",
          "text": [
            "Enter the height (m) from which the object is dropped: 2564\n",
            "The velocity is: 224.17 m/s.\n"
          ]
        }
      ]
    },
    {
      "cell_type": "markdown",
      "source": [
        "8. (5 points) Create a  NumPy array (100 rows and 4 columns) containing the following:\n",
        "* Column 1:  angle $\\theta$ - linearly spaced values between 0 and\n",
        "* Column 2: $\\sin \\theta$  \n",
        "* Column 3: $\\cos \\theta$\n",
        "* Column 4:  average of the values in columns 2 and 3"
      ],
      "metadata": {
        "id": "jOY79Luj3d4t"
      }
    },
    {
      "cell_type": "code",
      "source": [
        "# enter your code here\n",
        "import numpy as np\n",
        "\n",
        "theta = np.linspace(0, 2*np.pi, 100)\n",
        "column1 = theta\n",
        "column2 = np.sin(theta)\n",
        "column3 = np.cos(theta)\n",
        "column4 = (column1 + column2) / 2\n",
        "array = np.column_stack((column1, column2, column3, column4))\n",
        "\n",
        "print(array)"
      ],
      "metadata": {
        "id": "FfAsJUPi3thM"
      },
      "execution_count": 18,
      "outputs": []
    },
    {
      "cell_type": "markdown",
      "source": [
        "9. (5 points) In this problem, you will explore a random walk in which the motion of a particle is controlled by a coin toss. If the coin is heads, move one unit to the right (+1), if tails, move one unit to the left (–1). Here’s the procedure:\n",
        "* Ask the user to input the total number of steps for the random walk\n",
        "* Start the particle at the origin.\n",
        "* Pick a random number to move the particle left or right by one unit.\n",
        "* Repeat for a total of N steps\n",
        "* After the walk is complete, print the position of the particle\n",
        "\n",
        "     You can use any method you like to solve this problem"
      ],
      "metadata": {
        "id": "2WbX89BE3w1b"
      }
    },
    {
      "cell_type": "code",
      "source": [
        "# enter your code here\n",
        "import random\n",
        "\n",
        "N = int(input(\"Enter the total number of steps taken on the random walk here: \"))\n",
        "position = 0\n",
        "\n",
        "for x in range(N):\n",
        "    move = random.choice([-1, 1])\n",
        "    position += move\n",
        "print(f\"The final position of the particle is: {position}\")"
      ],
      "metadata": {
        "id": "FtBYvZ9n3tft",
        "outputId": "19413946-a0aa-4bb0-9750-17de25ac82ab",
        "colab": {
          "base_uri": "https://localhost:8080/"
        }
      },
      "execution_count": 19,
      "outputs": [
        {
          "output_type": "stream",
          "name": "stdout",
          "text": [
            "Enter the total number of steps taken on the random walk here: 52\n",
            "The final position of the particle is: -2\n"
          ]
        }
      ]
    },
    {
      "cell_type": "markdown",
      "source": [
        "10. (5 points) The Liebnitz formula for pi is:\n",
        "\n",
        "$\\pi \\approx 4 \\sum_{k=o}^N \\frac{(-1)^k}{2k+1}  \\approx 4\\cdot \\left[ 1-\\frac{1}{3} + \\frac{1}{5} - \\frac{1}{7} + \\frac{1}{9}+ \\cdots \\right]$\n",
        "                             \n",
        "* Write some Python code that prompts the user for the upper limit on the summation N and calculates the series.\n",
        "* Calculate the percent error of your approximation:  $error=\\left| \\frac{estimate-actual}{actual} \\right|\\times 100\\%$\n",
        "\n",
        "* print your estimated value of pi and the percent error along with a descriptive message\n",
        "* Use any method you like."
      ],
      "metadata": {
        "id": "XGBijCBt4A3b"
      }
    },
    {
      "cell_type": "code",
      "source": [
        "# enter your code here\n",
        "\n",
        "import math\n",
        "\n",
        "N = int(input(\"Enter the upper limit of the summation (N):\"))\n",
        "pi_approx_sum = 0\n",
        "\n",
        "for k in range(N+1):\n",
        "    term = ((-1)**k) / (2 * k + 1)\n",
        "    pi_approx_sum += term\n",
        "\n",
        "pi_estimated = 4* pi_approx_sum\n",
        "pi_actual = math.pi\n",
        "percent_error = abs((pi_estimated - pi_actual) / pi_actual) * 100\n",
        "\n",
        "print(f\"The estimated value for pi is: {pi_estimated}\")\n",
        "print(f\"The percent error is: {percent_error:.4f}%\")"
      ],
      "metadata": {
        "id": "u-5wiTjr4dHC",
        "outputId": "058425fa-c127-414a-e13b-b993f9fa8a00",
        "colab": {
          "base_uri": "https://localhost:8080/"
        }
      },
      "execution_count": 21,
      "outputs": [
        {
          "output_type": "stream",
          "name": "stdout",
          "text": [
            "Enter the upper limit of the summation (N):10\n",
            "The estimated value for pi is: 3.232315809405594\n",
            "The percent error is: 2.8878%\n"
          ]
        }
      ]
    }
  ]
}