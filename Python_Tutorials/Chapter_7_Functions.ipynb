{
  "nbformat": 4,
  "nbformat_minor": 0,
  "metadata": {
    "colab": {
      "provenance": [],
      "toc_visible": true,
      "authorship_tag": "ABX9TyMkkSWWnUi/dFtFoI02L+vR",
      "include_colab_link": true
    },
    "kernelspec": {
      "name": "python3",
      "display_name": "Python 3"
    },
    "language_info": {
      "name": "python"
    }
  },
  "cells": [
    {
      "cell_type": "markdown",
      "metadata": {
        "id": "view-in-github",
        "colab_type": "text"
      },
      "source": [
        "<a href=\"https://colab.research.google.com/github/dchappell2/Computational-Physics/blob/main/Python_Tutorials/Chapter_7_Functions.ipynb\" target=\"_parent\"><img src=\"https://colab.research.google.com/assets/colab-badge.svg\" alt=\"Open In Colab\"/></a>"
      ]
    },
    {
      "cell_type": "markdown",
      "source": [
        "##Chapter 7 - Functions\n",
        "\n",
        "Goals:\n",
        "* Explain and identify the difference between function definition and function call.\n",
        "* Write a function that takes a small, fixed number of arguments and produces a single result.\n",
        "\n"
      ],
      "metadata": {
        "id": "TTncLZhvQkAI"
      }
    },
    {
      "cell_type": "markdown",
      "source": [
        "## 7.0 Break programs down into functions to make them easier to understand.\n",
        "\n",
        "* People can only keep a few items in working memory at a time.\n",
        "* Understand larger/more complicated ideas by understanding and combining pieces. Think of components of a car or understanding nature through the division into physics, chemistry, biology and all their subfields.\n",
        "* Functions serve the same purpose in programs.\n",
        "* Encapsulate complexity so that we can treat it as a single “thing”.\n",
        "* Functions also enables re-use:  write it once, use it many times.\n",
        "\n"
      ],
      "metadata": {
        "id": "g3C0uV-QRkt_"
      }
    },
    {
      "cell_type": "markdown",
      "source": [
        "For example, you might desing a program that does data analysis into functional parts:\n",
        "* read in data\n",
        "* preprocess data to make it easier to analyse\n",
        "* perform analysys\n",
        "* plot results\n",
        "* save results\n",
        "\n",
        "Each of these could be their own function (or multiple functions)"
      ],
      "metadata": {
        "id": "8vUJXN51UCdQ"
      }
    },
    {
      "cell_type": "markdown",
      "source": [
        "##7.1 - Define a function using `def`\n",
        "\n",
        "* Begin the definition of a new function with `def`.\n",
        "* After `def` comes the name of the function. Function names follow the same rules as variable names (only letters, numbers and underscores; no spaces)\n",
        "* Then parameters in parentheses. If the function doesn't have any parameters, just use umpty parentheses ().\n",
        "* All function definitions must end with a colon (like if statements and loops)\n",
        "* The body of the function comes next and must be indented\n",
        "\n",
        "Here's an example:"
      ],
      "metadata": {
        "id": "XVnCwyd7RLW5"
      }
    },
    {
      "cell_type": "code",
      "source": [
        "def print_greeting():\n",
        "    print('Hello!')"
      ],
      "metadata": {
        "id": "bZUHQJxJV4Ha"
      },
      "execution_count": null,
      "outputs": []
    },
    {
      "cell_type": "markdown",
      "source": [
        "## 7.2 Defining a function does not run it.\n",
        "\n",
        "* Defining a function does not run it.\n",
        "* You must call the function to execute the code it contains.\n",
        "* The implementation of the function is called \"the call\". The call for the `print_greeting` function  is made by simmply typing the function name followed by a pair of parentheses:"
      ],
      "metadata": {
        "id": "hYBkexoqWA3P"
      }
    },
    {
      "cell_type": "code",
      "execution_count": null,
      "metadata": {
        "id": "zn8bUAAHQfFQ"
      },
      "outputs": [],
      "source": [
        "print_greeting()"
      ]
    },
    {
      "cell_type": "markdown",
      "source": [
        "* After running this code cell, you shoud see the greeting printed under it.\n",
        "* If you get an error, double check that you ran the code cell above containing the function definition first."
      ],
      "metadata": {
        "id": "Lt3RdFJXWh-5"
      }
    },
    {
      "cell_type": "markdown",
      "source": [
        "## 7.3 Arguments in the calling function are matched to the parameters in the definition.\n",
        "\n",
        "* Functions are most useful when they can operate on different data.\n",
        "* Specify parameters when defining a function.\n",
        "* These parameters become variables when the function is executed.\n",
        "* The parameters are assigned the arguments in the call (i.e., the values passed to the function).\n",
        "* If you don't name the arguments when using them in the call, the arguments will be matched to parameters in the order the parameters are defined in the function.\n"
      ],
      "metadata": {
        "id": "MtarrECkXPsP"
      }
    },
    {
      "cell_type": "markdown",
      "source": [
        "### 🔆 print_date() function\n",
        "\n",
        "In this example, we define a function to print a date in MM/DD/YYYY format\n",
        "* The passed parameters are the year, month and day\n",
        "* In the call to the function we pass the year 1871, the month 3 (for March) and the day 19. The order of these passed parameters matches the order `(year, month, day)` in the function definition.\n",
        "\n",
        "Run the code to see the output:"
      ],
      "metadata": {
        "id": "OwKqu7v3fMc3"
      }
    },
    {
      "cell_type": "code",
      "source": [
        "def print_date(year, month, day):\n",
        "    joined =  str(month) + '/' + str(day) + '/' + str(year)\n",
        "    print(joined)\n",
        "\n",
        "print_date(1871, 3, 19)"
      ],
      "metadata": {
        "id": "QwutfgZKYRuv"
      },
      "execution_count": null,
      "outputs": []
    },
    {
      "cell_type": "markdown",
      "source": [
        "* Or, we can name the arguments when we call the function, which allows us to specify them in any order:"
      ],
      "metadata": {
        "id": "AQVrK4xVYhxj"
      }
    },
    {
      "cell_type": "code",
      "source": [
        "print_date(month=3, day=19, year=1871)"
      ],
      "metadata": {
        "id": "6dvx5PiEYmjR"
      },
      "execution_count": null,
      "outputs": []
    },
    {
      "cell_type": "markdown",
      "source": [
        "* You can think of the function arguments as the **ingredients** for the function, while the body contains the **recipe**."
      ],
      "metadata": {
        "id": "GXvgylIPY4kU"
      }
    },
    {
      "cell_type": "markdown",
      "source": [
        "### ✅ Skill Check 1\n",
        "\n",
        "Write a function that prints an ASCII cat face:   =^.^=\n",
        "* You might call your function `cat()` or `print_cat()`, etc.\n",
        "* Your function doesn't need to have any passed variables, since it just does one thing\n",
        "* Test your function by calling it to demonstrate that it works\n",
        "\n"
      ],
      "metadata": {
        "id": "ZsRT4OcwH91D"
      }
    },
    {
      "cell_type": "markdown",
      "source": [
        "##7.4 Functions may return a result to their caller using `return`.\n",
        "\n",
        "* Use `return` to give a value back to the caller.\n",
        "* The `return` command can occur anywhere in the function, but..\n",
        "* Functions are easier to understand if return occurs either (1) at the start to handle special cases or (2) at the very end, with a final result.\n"
      ],
      "metadata": {
        "id": "wr2z-wdxZSey"
      }
    },
    {
      "cell_type": "code",
      "source": [
        "def average(values):\n",
        "    return sum(values) / len(values)\n",
        "\n",
        "a = average([1, 3, 4])\n",
        "print('average of actual values:', a)"
      ],
      "metadata": {
        "id": "352mFoydbNOC"
      },
      "execution_count": null,
      "outputs": []
    },
    {
      "cell_type": "markdown",
      "source": [
        "* Notice what happens if we accidentally pass an empty array to our function:"
      ],
      "metadata": {
        "id": "_xg5y79XbTOw"
      }
    },
    {
      "cell_type": "code",
      "source": [
        "print('average of empty list:', average([]))"
      ],
      "metadata": {
        "id": "BlrzGzpwbW3L"
      },
      "execution_count": null,
      "outputs": []
    },
    {
      "cell_type": "markdown",
      "source": [
        "* Error messages like this are not pretty and we want to avoid them when at all possible. The next section discusses how to do this."
      ],
      "metadata": {
        "id": "RRav3IfMcEyZ"
      }
    },
    {
      "cell_type": "markdown",
      "source": [
        "##7.4 Write functions robustly, so they can handle all the ways a user might use them\n",
        "\n",
        "* In the previous example we saw that the `average()` function threw an error if we passed it an empty array.\n",
        "* Let's modify our function so that it can handle empty arrays.\n",
        "* We'll test to see if the length of the passed list is zero and return a `None` if it is.\n"
      ],
      "metadata": {
        "id": "ZUD-rS4ma_gQ"
      }
    },
    {
      "cell_type": "markdown",
      "source": [
        "### 🔆 Average() function\n",
        "\n",
        "* Here's our function that takes the average of a list of numeric values\n",
        "* It checks to make sure the list isn't empty by making sure the length of the list is  > 0\n",
        "* If the passed list is empty, the function will return `None` instead of a numeric value"
      ],
      "metadata": {
        "id": "WQ-_RfKIe2V8"
      }
    },
    {
      "cell_type": "code",
      "source": [
        "def average(values):\n",
        "    if len(values) == 0:\n",
        "        return None\n",
        "    return sum(values) / len(values)\n",
        "\n",
        "print('average of empty list:', average([]))"
      ],
      "metadata": {
        "id": "0ZLABgPaZ6Fo"
      },
      "execution_count": null,
      "outputs": []
    },
    {
      "cell_type": "markdown",
      "source": [
        "* Every function returns something.\n",
        "* A function that doesn't explicitly return a value automatically returns None.\n"
      ],
      "metadata": {
        "id": "rPSP86LqaXA4"
      }
    },
    {
      "cell_type": "markdown",
      "source": [
        "## 7.5 Use functions to modularize your code\n",
        "\n",
        "It is tempting to just start writing the final version of your code that does everything you want. However experience suggests that (for all except the simplest programs) it is better to break your code into pieces and test each piece before combining them together into your final program.\n",
        "* This philosophy is like experimental physics:  only vary one variable at a time\n",
        "* It is much harder to debug a program that has multiple errors instead of just one.\n",
        "* Writing functions to handle dedicated tasks allows you to fully test each function before combining them into more complex applications\n",
        "\n",
        "Here's an example that shows how a function can help simplify code:"
      ],
      "metadata": {
        "id": "bYkcbODCfznZ"
      }
    },
    {
      "cell_type": "markdown",
      "source": [
        "### 🔆 Example:  Classifying eggs by mass\n",
        "\n",
        "The code below will run on a label-printer for chicken eggs. A digital scale will report a chicken egg mass (in grams) to the computer and then the computer will print a label.\n",
        "\n",
        "As it is written, the code includes `if` statements check to classify the eggs by mass within the for loop to iterate over the eggs:"
      ],
      "metadata": {
        "id": "D5-ghTd4f5q2"
      }
    },
    {
      "cell_type": "code",
      "source": [
        "import random\n",
        "for i in range(10):\n",
        "\n",
        "    # simulating the mass of a chicken egg\n",
        "    # the (random) mass will be 70 +/- 20 grams\n",
        "    mass=70+20.0*(2.0*random.random()-1.0)\n",
        "\n",
        "    # classify egg by mass\n",
        "    if(mass>=85):\n",
        "       label = \"jumbo\"\n",
        "    elif(mass>=70):\n",
        "       label = \"large\"\n",
        "    elif(mass>=55):\n",
        "       label = \"medium\"\n",
        "    else:\n",
        "       label = \"small\"\n",
        "\n",
        "    print(f'{mass:5.1f}g  {label}')"
      ],
      "metadata": {
        "id": "WK8iLWnfgTil"
      },
      "execution_count": null,
      "outputs": []
    },
    {
      "cell_type": "markdown",
      "source": [
        "While this program is fairly easy to understand, we'll suggest a way to make it more modular.\n",
        "\n",
        "To show how functions can help compartmentalize and simplify your code, we'll rewrite it to create a function that classifies the eggs by mass, and then call this function inside the for loop:"
      ],
      "metadata": {
        "id": "El9Q3VUAgtfL"
      }
    },
    {
      "cell_type": "code",
      "source": [
        "# revised version\n",
        "\n",
        "import random   # imports random number library\n",
        "\n",
        "# Function that classifies eggs by mass and prints the category\n",
        "#   passed parameter:  egg mass (in grams)\n",
        "#   returns a string containing classification \"small\", \"medium\", etc.\n",
        "#\n",
        "def egg_classification(mass):\n",
        "\n",
        "    if(mass>=85):\n",
        "        return(\"jumbo\")\n",
        "    elif(mass>=70):\n",
        "        return(\"large\")\n",
        "    elif(mass>=55):\n",
        "        return(\"medium\")\n",
        "    else:\n",
        "        return(\"small\")\n",
        "\n",
        "\n",
        "# Main code loops over eggs\n",
        "\n",
        "for i in range(10):\n",
        "\n",
        "    # simulating the mass of a chicken egg\n",
        "    # the (random) mass will be 70 +/- 20 grams\n",
        "    mass=70+20.0*(2.0*random.random()-1.0)\n",
        "\n",
        "    # classify egg by mass\n",
        "    label = egg_classification(mass)\n",
        "\n",
        "    # print label\n",
        "    print(f'{mass:5.1f}g  {label}')"
      ],
      "metadata": {
        "id": "LmqNsQlRgxv2"
      },
      "execution_count": null,
      "outputs": []
    },
    {
      "cell_type": "markdown",
      "source": [
        "We believe the revised version of our code is better for several reasons:\n",
        "* The for loop is simplified. It only contains three lines of code: (1) defines mass of the egg, (2) classifies egg by mass and (3) prints the classification\n",
        "* The `egg_classification` function can be tested outside your program. For example, we can test it with different egg masses to make sure it is classifying correctly before plugging it into the program:  "
      ],
      "metadata": {
        "id": "KZm3FvD0Nq8B"
      }
    },
    {
      "cell_type": "code",
      "source": [
        "print(egg_classification(75))\n",
        "print(egg_classification(55))"
      ],
      "metadata": {
        "id": "_MTxONytOxGH"
      },
      "execution_count": null,
      "outputs": []
    },
    {
      "cell_type": "markdown",
      "source": [
        "### ✅ Skill Check 2\n",
        "\n",
        "Write a function to calculate the kinetic energy of a particle given its mass and speed.\n",
        "* The function should have two passed parameters (mass and speed)\n",
        "* Assume the parameters are in MKS units\n",
        "* The function should return the kinetic energy (also in MKS units)\n",
        "* Test out your function for the following:  mass = 0.25 kg, speed = 100 m/s\n",
        "* After you call the function, print the mass and velocity along with the kinetic energy"
      ],
      "metadata": {
        "id": "5gTATfuGMZhg"
      }
    },
    {
      "cell_type": "markdown",
      "source": [
        "### ✅ Skill Check 3\n",
        "\n",
        "Write a program that prints a table of the masses of objects and their Schwarzschild radii, which is the radius of object if it were compressed and tturned into a black hole. Background:  All objects would theoretically turn into a black hole if they are compressed sufficiently. The Schwarzshild radius is the radius of the event horizon of the black hole (which is the place where the escape velocity from the object equals the speed of light).\n",
        "* The Schwarzschild radius is given by $R_s = \\sqrt{\\frac{2GM}{c^2}}$, where $G$ is the gravitation constant, $M$ is the mass in kg, and $c$ is the speed of light.\n",
        "* Write a function that returns the Schwarzschild radius given a single passed parameter, i.e. the object's mass\n",
        "* The Code Cell below has two arrays, one with an object's name and the other its mass.\n",
        "* Use your function to calculate the Schwarschild radius for each object\n",
        "* Use a print statement in a loop to print a nicely formatted table showing the name of the object, its mass and its Schwarzschild radius. Include units in your table."
      ],
      "metadata": {
        "id": "JpvrV1rfNq6E"
      }
    },
    {
      "cell_type": "code",
      "source": [
        "name = ['penny', 'car', 'mount Everest', 'Earth', 'Sun', 'Universe']\n",
        "mass = [2.5e-3,   1000, 3.6e12,        , 5.97e24, 2.0e30, 1e53]         # mass in kg"
      ],
      "metadata": {
        "id": "8qCOR07OQixM"
      },
      "execution_count": null,
      "outputs": []
    },
    {
      "cell_type": "markdown",
      "source": [
        "### ✅ Skill Check 4\n",
        "\n",
        "Part A:  Write a function that simulates flipping a coin\n",
        "* The function should use the `random` library (see the Rolling Dice example in Chapter 5 for an example of how to use the `random` library)\n",
        "* The function should return a 1 or 0 with equal probability (1 for \"heads\", 0 for \"tails\")\n",
        "\n",
        "Part B:  Test to see if your function produces approximately 50% head and 50% tails, i.e that it is unbiased\n",
        "* Place your function in a for loop and count how many \"heads\" and how many \"tails\" are produced\n",
        "* Experiment with how long it takes your code to simulate N coin flips. Increase N until it takes between 15-30 seconds to do the calculation\n",
        "* Print the fraction of heads and tails as a percentage of the total number of coin flips\n",
        "\n"
      ],
      "metadata": {
        "id": "OgRPOiO2VzLw"
      }
    },
    {
      "cell_type": "markdown",
      "source": [
        "### ✅ Skill Check  5\n",
        "\n",
        "Write a function that extends the Coin Flip example in Skill Check 4. We'll explore how many times one needs to flip a coin until you get N heads in a row, where N is some predetermined number.\n",
        "* Write a function that returns the number of coin flips need to get N head in a row. This will be a stochastic (i.e. random) result, so the function will return a different value each time it is called.\n",
        "\n",
        "Specifications for your function:\n",
        "* You should pass your function the desired number N of heads in a row.\n",
        "* The function should call the Coin Flip function you wrote in Skill Check 4 to generate a random sequence of 0’s and 1’s (1 = heads, 0 = tails) until it produces N heads in a row.\n",
        "* The function should return the number of coin flips it took to generate the N heads in a row.\n",
        "* As you design your code, are there other places where you might introduce another function to add modularity to you code?\n",
        "\n",
        "Specifications for your program:\n",
        "* Call your function 10 times to calculate the **average** number of coin flips needed to generate 5 heads in a row.\n",
        "* Compare this computational result with the analytic value predicted from probability theory, which says the number of coin flips needed to generate N heads in a row is $N_{flips} = 2^{N+1}-2$. Use N = 5 in your calculation.\n",
        "* Display both your computational and theoretical values in a print statement, explaining what each number represents.\n",
        "\n"
      ],
      "metadata": {
        "id": "O1X4jHMiXmL9"
      }
    },
    {
      "cell_type": "code",
      "source": [],
      "metadata": {
        "id": "omoIB155YFNG"
      },
      "execution_count": null,
      "outputs": []
    },
    {
      "cell_type": "markdown",
      "source": [
        "### **Key Points**\n",
        "\n",
        "* Break programs into functions to make them easier to undertsand\n",
        "* Functions are created with a `def` statement, and the body is indented\n",
        "* Defining a function does not run it. You need to call the function once it is defined\n",
        "* Arguments in the calling function are matched to the parameters in the definition\n",
        "* Alternatively, if you name the arguments when you call the function, you can pass them in any order\n",
        "* Functions may return a result using the `return` statement\n",
        "* Write functions robustly, so they can handle all the ways a user might use them\n",
        "* Use functions to modularize your code"
      ],
      "metadata": {
        "id": "yLLbwG8KOwuy"
      }
    },
    {
      "cell_type": "markdown",
      "source": [
        "This tutorial is a modified adaptation of [link text](https://) \"[Python for Physicists](https://lucydot.github.io/python_novice/)\"\n",
        "© [Software Carpentry](http://software-carpentry.org/)\n"
      ],
      "metadata": {
        "id": "5pnXdFvAhvCZ"
      }
    }
  ]
}